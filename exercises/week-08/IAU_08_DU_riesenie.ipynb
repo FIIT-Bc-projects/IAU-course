{
 "cells": [
  {
   "cell_type": "code",
   "execution_count": null,
   "metadata": {},
   "outputs": [],
   "source": [
    "# -*- coding: utf-8 -*-\n",
    "#\n",
    "# Licensed under the Apache License, Version 2.0 (the \"License\");\n",
    "# you may not use this file except in compliance with the License.\n",
    "# You may obtain a copy of the License at\n",
    "#\n",
    "#    http://www.apache.org/licenses/LICENSE-2.0\n",
    "#\n",
    "# Unless required by applicable law or agreed to in writing, software\n",
    "# distributed under the License is distributed on an \"AS IS\" BASIS,\n",
    "# WITHOUT WARRANTIES OR CONDITIONS OF ANY KIND, either express or\n",
    "# implied.\n",
    "# See the License for the specific language governing permissions and\n",
    "# limitations under the License.\n",
    "#"
   ]
  },
  {
   "cell_type": "markdown",
   "metadata": {},
   "source": [
    "## 3.4 Levenshtein distance\n",
    "Levenshtein distance between two strings $a,b$ is \n",
    "\n",
    "$\n",
    "    \\label{eq:lev}\n",
    "    lev_{a,b}(i,j)=\n",
    "      \\begin{cases}\n",
    "      \\max(i,j) & \\text{if $\\min(i,j)=0$,} \\\\[1ex]\n",
    "      \\begin{aligned}[b]\n",
    "      \\min\\bigl(lev_{a,b}&(i-1,j)+1, \\\\\n",
    "                lev_{a,b}&(i,j-1)+1, \\\\\n",
    "                lev_{a,b}&(i-1,j-1)+1_{(a_i\\ne b_j)}\n",
    "          \\bigr)\n",
    "      \\end{aligned} & \\text{otherwise.}\n",
    "    \\end{cases}\n",
    "$\n",
    "\n",
    "where\n",
    "    $i$ is the terminal character position of $a$,\n",
    "    $j$ is the terminal character position of $b$, \n",
    "    and positions are 1-indexed.\n",
    "    \n",
    "<!-- <img src=\"img/levenshtein.png\" /> //-->\n",
    "\n",
    "URL https://stackabuse.com/levenshtein-distance-and-text-similarity-in-python/\n",
    "\n",
    "URL https://medium.com/@ethannam/understanding-the-levenshtein-distance-equation-for-beginners-c4285a5604f0"
   ]
  },
  {
   "cell_type": "code",
   "execution_count": null,
   "metadata": {},
   "outputs": [],
   "source": [
    "# Your code: (K. Kochanová)\n",
    "\n",
    "def levenshtein_distance(first, second):\n",
    "    rows = len(first)+1\n",
    "    columns = len(second)+1\n",
    "    dist = [[0 for x in range(columns)] for x in range(rows)]\n",
    "\n",
    "    for i in range(1, rows):\n",
    "        dist[i][0] = i\n",
    "    for i in range(1, columns):\n",
    "        dist[0][i] = i\n",
    "        \n",
    "    for col in range(1, columns):\n",
    "        for row in range(1, rows):\n",
    "            if first[row-1] == second[col-1]:\n",
    "                cost = 0\n",
    "            else:\n",
    "                cost = 1\n",
    "            dist[row][col] = min(dist[row-1][col] + 1,\n",
    "                                 dist[row][col-1] + 1,    \n",
    "                                 dist[row-1][col-1] + cost)\n",
    "\n",
    "    for r in range(rows):\n",
    "        print(dist[r])\n",
    "    \n",
    "    return dist[row][col]"
   ]
  },
  {
   "cell_type": "code",
   "execution_count": null,
   "metadata": {},
   "outputs": [],
   "source": [
    "levenshtein_distance(\"text\", \"test\")"
   ]
  },
  {
   "cell_type": "code",
   "execution_count": null,
   "metadata": {},
   "outputs": [],
   "source": [
    "levenshtein_distance(\"flaw\", \"lawn\")"
   ]
  },
  {
   "cell_type": "code",
   "execution_count": null,
   "metadata": {},
   "outputs": [],
   "source": [
    "levenshtein_distance(\"nice\", \"niece\")"
   ]
  },
  {
   "cell_type": "code",
   "execution_count": null,
   "metadata": {},
   "outputs": [],
   "source": [
    "levenshtein_distance(\"kitten\", \"sitting\")"
   ]
  },
  {
   "cell_type": "code",
   "execution_count": null,
   "metadata": {},
   "outputs": [],
   "source": [
    "levenshtein_distance(\"Manhattan\", \"Manahaton\")"
   ]
  },
  {
   "cell_type": "code",
   "execution_count": null,
   "metadata": {},
   "outputs": [],
   "source": [
    "# Your code: (M. Podolský, 2023)\n",
    "\n",
    "def levenshtein_distance(str1, str2):\n",
    "    m, n = len(str1), len(str2)\n",
    "\n",
    "    # Vytvorenie matice\n",
    "    mat = [[0] * (n + 1) for _ in range(m + 1)]\n",
    "\n",
    "    # Pokrytie základných prípadov\n",
    "    for i in range(m + 1):\n",
    "        for j in range(n + 1):\n",
    "            if i == 0:\n",
    "                mat[i][j] = j  # Pokiaľ je prvý string prázdny\n",
    "            elif j == 0:\n",
    "                mat[i][j] = i  # Pokiaľ je druhý string prázdny\n",
    "            elif str1[i - 1] == str2[j - 1]:\n",
    "                mat[i][j] = mat[i - 1][j - 1]  # Zhoda\n",
    "            else:\n",
    "                mat[i][j] = 1 + min(mat[i - 1][j],    # Vymazanie\n",
    "                                  mat[i][j - 1],      # Vloženie\n",
    "                                  mat[i - 1][j - 1])  # Nahradenie\n",
    "\n",
    "\n",
    "    return mat[m][n]  # Výsledok - rožný prvok (spodný pravý)"
   ]
  },
  {
   "cell_type": "code",
   "execution_count": null,
   "metadata": {},
   "outputs": [],
   "source": [
    "distance = levenshtein_distance(\"kitten\", \"sitting\")\n",
    "print(f\"The Levenshtein distance is {distance}.\")"
   ]
  },
  {
   "cell_type": "code",
   "execution_count": null,
   "metadata": {},
   "outputs": [],
   "source": [
    "# Your code: (A. Kemény, 2023)\n",
    "# Based on https://www.youtube.com/watch?v=We3YDTzNXEk\n",
    "\n",
    "import numpy as np\n",
    "\n",
    "def levenshtein_distance(str1, str2):\n",
    "\n",
    "    # matrix pre vzdialenosti\n",
    "    dp = np.zeros ((len(str1) + 1, len(str2) + 1))\n",
    "\n",
    "    # Initialize the matrix with base case values\n",
    "    for i in range(len(str1) + 1):\n",
    "        for j in range(len(str2) + 1):\n",
    "            #nulte stlpce\n",
    "            if i == 0:\n",
    "                dp[i][j] = j\n",
    "            elif j == 0:\n",
    "                dp[i][j] = i\n",
    "            #ak sa charakter rovna, tak beriem diagonalu\n",
    "            elif str1[i - 1] == str2[j - 1]:\n",
    "                dp[i][j] = dp[i - 1][j - 1]\n",
    "            else:\n",
    "                #minimum z nalavo, hore alebo na diagonale + 1\n",
    "                dp[i][j] = 1 + min(dp[i - 1][j],\n",
    "                                  dp[i][j - 1],\n",
    "                                  dp[i - 1][j - 1])\n",
    "\n",
    "    #zisťujem modifikacie ďalej:\n",
    "    i, j = len(str1), len(str2)\n",
    "    steps = []\n",
    "\n",
    "    while i > 0 or j > 0:\n",
    "        if i > 0 and j > 0 and str1[i - 1] == str2[j - 1]:\n",
    "        #char sa rovna na mieste; no change\n",
    "            steps.append(f\"{str1[i - 1]}\")\n",
    "            i -= 1\n",
    "            j -= 1\n",
    "        #hladam kde nastala zmena, podla toho viem krok\n",
    "        elif i > 0 and dp[i][j] == dp[i - 1][j] + 1:\n",
    "            steps.append(f\"DELETE: '{str1[i - 1]}'\")\n",
    "            i -= 1\n",
    "        elif j > 0 and dp[i][j] == dp[i][j - 1] + 1:\n",
    "            steps.append(f\"INSERT: '{str2[j - 1]}'\")\n",
    "            j -= 1\n",
    "        else:\n",
    "            steps.append(f\"SUBSTITUTE: '{str1[i - 1]}' with '{str2[j - 1]}'\")\n",
    "            i -= 1\n",
    "            j -= 1\n",
    "\n",
    "    steps.reverse()\n",
    "\n",
    "    return dp[-1][-1], steps\n"
   ]
  },
  {
   "cell_type": "code",
   "execution_count": null,
   "metadata": {},
   "outputs": [],
   "source": [
    "levenshtein_distance(\"zdanie klame\", \"dane za lamu\")"
   ]
  }
 ],
 "metadata": {
  "kernelspec": {
   "display_name": "Python 3 (ipykernel)",
   "language": "python",
   "name": "python3"
  },
  "language_info": {
   "codemirror_mode": {
    "name": "ipython",
    "version": 3
   },
   "file_extension": ".py",
   "mimetype": "text/x-python",
   "name": "python",
   "nbconvert_exporter": "python",
   "pygments_lexer": "ipython3",
   "version": "3.9.15"
  }
 },
 "nbformat": 4,
 "nbformat_minor": 4
}
